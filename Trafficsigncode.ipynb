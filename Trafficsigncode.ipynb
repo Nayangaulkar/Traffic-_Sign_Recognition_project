{
 "cells": [
  {
   "cell_type": "code",
   "execution_count": 15,
   "metadata": {},
   "outputs": [],
   "source": [
    "import numpy as np\n",
    "import pandas as pd\n",
    "import matplotlib.pyplot as plt\n",
    "import tensorflow as tf\n",
    "from PIL import Image\n",
    "import os\n",
    "from sklearn.model_selection import train_test_split\n",
    "from tensorflow.keras.utils import to_categorical\n",
    "from tensorflow.keras.models import Sequential\n",
    "from tensorflow.keras.layers import Conv2D,MaxPool2D,Dense,Flatten,Dropout\n"
   ]
  },
  {
   "cell_type": "code",
   "execution_count": 16,
   "metadata": {},
   "outputs": [],
   "source": [
    "data = []\n",
    "labels = []\n",
    "classes = 43 \n",
    "cur_path = os.getcwd()\n",
    "for i in range(0,classes): \n",
    "    path = os.path.join(cur_path,\"Train\",str(i)) \n",
    "    images = os.listdir(path) \n",
    "    \n",
    "    for a in images: \n",
    "        try: \n",
    "            image = Image.open(path +'\\\\' + a) \n",
    "            image = image.resize((30,30)) \n",
    "            image = np.array(image) \n",
    "            data.append(image) \n",
    "            labels.append(i) \n",
    "        except: \n",
    "            print(\"Error loading image\") \n",
    "data = np.array(data)\n",
    "labels = np.array(labels)"
   ]
  },
  {
   "cell_type": "code",
   "execution_count": 17,
   "metadata": {},
   "outputs": [
    {
     "name": "stdout",
     "output_type": "stream",
     "text": [
      "(39209, 30, 30, 3) (39209,)\n",
      "(31367, 30, 30, 3) (7842, 30, 30, 3) (31367,) (7842,)\n"
     ]
    }
   ],
   "source": [
    "print(data.shape, labels.shape)\n",
    "#Splitting training and testing dataset\n",
    "X_train, X_test, y_train, y_test = train_test_split(data, labels, test_size=0.2, random_state=42)\n",
    "print(X_train.shape, X_test.shape, y_train.shape, y_test.shape)\n"
   ]
  },
  {
   "cell_type": "code",
   "execution_count": 18,
   "metadata": {},
   "outputs": [],
   "source": [
    "#Converting the labels into one hot encoding\n",
    "y_train = to_categorical(y_train, 43)\n",
    "y_test = to_categorical(y_test, 43)"
   ]
  },
  {
   "cell_type": "code",
   "execution_count": 19,
   "metadata": {},
   "outputs": [],
   "source": [
    "#Building the model\n",
    "model = Sequential()\n",
    "model.add(Conv2D(filters=32, kernel_size=(5,5), activation='relu', input_shape=X_train.shape[1:]))\n",
    "model.add(Conv2D(filters=32, kernel_size=(5,5), activation='relu'))\n",
    "model.add(MaxPool2D(pool_size=(2, 2)))\n",
    "model.add(Dropout(rate=0.25))\n",
    "model.add(Conv2D(filters=64, kernel_size=(3, 3), activation='relu'))\n",
    "model.add(Conv2D(filters=64, kernel_size=(3, 3), activation='relu'))\n",
    "model.add(MaxPool2D(pool_size=(2, 2)))\n",
    "model.add(Dropout(rate=0.25))\n",
    "model.add(Flatten())\n",
    "model.add(Dense(256, activation='relu'))\n",
    "model.add(Dropout(rate=0.5))\n",
    "model.add(Dense(43, activation='softmax'))\n",
    "#Compilation of the model\n",
    "model.compile(loss='categorical_crossentropy', optimizer='adam', metrics=['accuracy'])"
   ]
  },
  {
   "cell_type": "code",
   "execution_count": 20,
   "metadata": {},
   "outputs": [
    {
     "name": "stdout",
     "output_type": "stream",
     "text": [
      "Epoch 1/15\n",
      "491/491 [==============================] - 71s 143ms/step - loss: 1.9088 - accuracy: 0.5352 - val_loss: 0.2827 - val_accuracy: 0.9396\n",
      "Epoch 2/15\n",
      "491/491 [==============================] - 76s 154ms/step - loss: 0.4629 - accuracy: 0.8746 - val_loss: 0.1678 - val_accuracy: 0.9671\n",
      "Epoch 3/15\n",
      "491/491 [==============================] - 76s 154ms/step - loss: 0.2762 - accuracy: 0.9249 - val_loss: 0.0779 - val_accuracy: 0.9823\n",
      "Epoch 4/15\n",
      "491/491 [==============================] - 77s 156ms/step - loss: 0.2115 - accuracy: 0.9444 - val_loss: 0.0642 - val_accuracy: 0.9836\n",
      "Epoch 5/15\n",
      "491/491 [==============================] - 76s 155ms/step - loss: 0.1755 - accuracy: 0.9528 - val_loss: 0.0660 - val_accuracy: 0.9850\n",
      "Epoch 6/15\n",
      "491/491 [==============================] - 77s 156ms/step - loss: 0.1621 - accuracy: 0.9564 - val_loss: 0.0313 - val_accuracy: 0.9912\n",
      "Epoch 7/15\n",
      "491/491 [==============================] - 76s 154ms/step - loss: 0.1473 - accuracy: 0.9610 - val_loss: 0.0484 - val_accuracy: 0.9872\n",
      "Epoch 8/15\n",
      "491/491 [==============================] - 77s 156ms/step - loss: 0.1400 - accuracy: 0.9629 - val_loss: 0.0372 - val_accuracy: 0.9892\n",
      "Epoch 9/15\n",
      "491/491 [==============================] - 76s 156ms/step - loss: 0.1311 - accuracy: 0.9654 - val_loss: 0.0336 - val_accuracy: 0.9925\n",
      "Epoch 10/15\n",
      "491/491 [==============================] - 76s 155ms/step - loss: 0.1483 - accuracy: 0.9626 - val_loss: 0.0432 - val_accuracy: 0.9893\n",
      "Epoch 11/15\n",
      "491/491 [==============================] - 77s 156ms/step - loss: 0.1220 - accuracy: 0.9692 - val_loss: 0.0526 - val_accuracy: 0.9864\n",
      "Epoch 12/15\n",
      "491/491 [==============================] - 77s 156ms/step - loss: 0.1156 - accuracy: 0.9707 - val_loss: 0.0269 - val_accuracy: 0.9920\n",
      "Epoch 13/15\n",
      "491/491 [==============================] - 76s 155ms/step - loss: 0.1306 - accuracy: 0.9677 - val_loss: 0.0258 - val_accuracy: 0.9941\n",
      "Epoch 14/15\n",
      "491/491 [==============================] - 76s 155ms/step - loss: 0.1429 - accuracy: 0.9647 - val_loss: 0.0367 - val_accuracy: 0.9908\n",
      "Epoch 15/15\n",
      "491/491 [==============================] - 77s 156ms/step - loss: 0.1378 - accuracy: 0.9663 - val_loss: 0.0564 - val_accuracy: 0.9872\n"
     ]
    }
   ],
   "source": [
    "epochs = 15\n",
    "history = model.fit(X_train, y_train, batch_size=64, epochs=epochs, validation_data=(X_test, y_test))\n"
   ]
  },
  {
   "cell_type": "code",
   "execution_count": 21,
   "metadata": {},
   "outputs": [
    {
     "data": {
      "image/png": "[encoded data removed]",
      "text/plain": [
       "<Figure size 432x288 with 1 Axes>"
      ]
     },
     "metadata": {
      "needs_background": "light"
     },
     "output_type": "display_data"
    },
    {
     "data": {
      "image/png": "[encoded data removed]",
      "text/plain": [
       "<Figure size 432x288 with 1 Axes>"
      ]
     },
     "metadata": {
      "needs_background": "light"
     },
     "output_type": "display_data"
    }
   ],
   "source": [
    "model.save(\"my_model.h5\")\n",
    "#plotting graphs for accuracy \n",
    "plt.figure(0)\n",
    "plt.plot(history.history['accuracy'], label='training accuracy')\n",
    "plt.plot(history.history['val_accuracy'], label='val accuracy')\n",
    "plt.title('Accuracy')\n",
    "plt.xlabel('epochs')\n",
    "plt.ylabel('accuracy')\n",
    "plt.legend()\n",
    "plt.show()\n",
    "plt.figure(1)\n",
    "plt.plot(history.history['loss'], label='training loss')\n",
    "plt.plot(history.history['val_loss'], label='val loss')\n",
    "plt.title('Loss')\n",
    "plt.xlabel('epochs')\n",
    "plt.ylabel('loss')\n",
    "plt.legend()\n",
    "plt.show()"
   ]
  },
  {
   "cell_type": "code",
   "execution_count": 32,
   "metadata": {},
   "outputs": [
    {
     "name": "stdout",
     "output_type": "stream",
     "text": [
      "0.9509897070467141\n"
     ]
    }
   ],
   "source": [
    "\n",
    "#testing accuracy on test dataset\n",
    "from sklearn.metrics import accuracy_score\n",
    "import pandas as pd\n",
    "y_test = pd.read_csv('Test.csv')\n",
    "\n",
    "labels = y_test[\"ClassId\"].values\n",
    "imgs = y_test[\"Path\"].values\n",
    "\n",
    "data=[]\n",
    "\n",
    "for img in imgs:\n",
    "    image = Image.open(img)\n",
    "    image = image.resize((30,30))\n",
    "    data.append(np.array(image))\n",
    "\n",
    "X_test=np.array(data)\n",
    "\n",
    "pred=np.argmax(model.predict(X_test), axis=1)\n",
    "#Accuracy with the test data\n",
    "from sklearn.metrics import accuracy_score\n",
    "print(accuracy_score(labels, pred))\n"
   ]
  },
  {
   "cell_type": "code",
   "execution_count": 33,
   "metadata": {},
   "outputs": [],
   "source": [
    "model.save(\"my_model.h5\")"
   ]
  },
  {
   "cell_type": "code",
   "execution_count": null,
   "metadata": {},
   "outputs": [],
   "source": []
  }
 ],
 "metadata": {
  "kernelspec": {
   "display_name": "Python 3",
   "language": "python",
   "name": "python3"
  },
  "language_info": {
   "codemirror_mode": {
    "name": "ipython",
    "version": 3
   },
   "file_extension": ".py",
   "mimetype": "text/x-python",
   "name": "python",
   "nbconvert_exporter": "python",
   "pygments_lexer": "ipython3",
   "version": "3.6.13"
  }
 },
 "nbformat": 4,
 "nbformat_minor": 4
}
